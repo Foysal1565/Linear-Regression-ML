{
 "cells": [
  {
   "cell_type": "code",
   "execution_count": null,
   "metadata": {},
   "outputs": [
    {
     "name": "stdout",
     "output_type": "stream",
     "text": [
      "             x      y      x1    y1\n",
      "0            x      y      x1    y1\n",
      "1            0      0       0     0\n",
      "2            1      0       1     0\n",
      "3            2      0       2     0\n",
      "4            3      0       3     0\n",
      "...        ...    ...     ...   ...\n",
      "124892  124891  11700  124891  3680\n",
      "124893  124892  11700  124892  3680\n",
      "124894  124893  11700  124893  3680\n",
      "124895  124894  11700  124894  3680\n",
      "124896  124895  11700  124895  3680\n",
      "\n",
      "[124897 rows x 4 columns]\n"
     ]
    }
   ],
   "source": [
    "\n",
    "import pandas as pd\n",
    "from datetime import datetime\n",
    "import csv\n",
    "import matplotlib.pyplot as plt\n",
    "import matplotlib.dates as mdates\n",
    "headers = ['x','y','x1','y1']\n",
    "df = pd.read_csv('wsn.CSV',names=headers)\n",
    "print (df)\n",
    "\n",
    "x = df['x']\n",
    "y = df['y']\n",
    "\n",
    "# plot\n",
    "plt.plot(x,y)\n",
    "# beautify the x-labels\n",
    "plt.gcf().autofmt_xdate()\n",
    "\n",
    "plt.show()\n"
   ]
  },
  {
   "cell_type": "code",
   "execution_count": 24,
   "metadata": {},
   "outputs": [
    {
     "data": {
      "text/plain": [
       "<Figure size 432x288 with 0 Axes>"
      ]
     },
     "metadata": {},
     "output_type": "display_data"
    }
   ],
   "source": [
    "plt.savefig(\"wsn2.JPG\")"
   ]
  },
  {
   "cell_type": "code",
   "execution_count": null,
   "metadata": {},
   "outputs": [],
   "source": [
    "import pandas as pd\n",
    "from datetime import datetime\n",
    "import csv\n",
    "import matplotlib.pyplot as plt\n",
    "import matplotlib.dates as mdates\n",
    "headers = ['x','y','x1','y1']\n",
    "df = pd.read_csv('wsn.CSV',names=headers)\n",
    "print (df)\n",
    "\n",
    "x = df['x']\n",
    "y = df['y']\n",
    "\n",
    "# plot\n",
    "plt.plot(x,y)\n",
    "# beautify the x-labels\n",
    "plt.gcf().autofmt_xdate()\n",
    "\n",
    "plt.show()"
   ]
  },
  {
   "cell_type": "code",
   "execution_count": null,
   "metadata": {},
   "outputs": [],
   "source": []
  }
 ],
 "metadata": {
  "kernelspec": {
   "display_name": "Python 3",
   "language": "python",
   "name": "python3"
  },
  "language_info": {
   "codemirror_mode": {
    "name": "ipython",
    "version": 3
   },
   "file_extension": ".py",
   "mimetype": "text/x-python",
   "name": "python",
   "nbconvert_exporter": "python",
   "pygments_lexer": "ipython3",
   "version": "3.7.4"
  }
 },
 "nbformat": 4,
 "nbformat_minor": 2
}
